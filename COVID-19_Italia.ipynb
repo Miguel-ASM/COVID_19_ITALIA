{
 "cells": [
  {
   "cell_type": "code",
   "execution_count": null,
   "metadata": {
    "ExecuteTime": {
     "end_time": "2020-03-12T14:16:51.006745Z",
     "start_time": "2020-03-12T14:16:50.713566Z"
    }
   },
   "outputs": [],
   "source": [
    "# Imports\n",
    "\n",
    "import pandas as pd\n",
    "\n",
    "import ipywidgets as ipw\n",
    "from ipywidgets import interact\n",
    "from IPython.display import display\n",
    "\n",
    "from matplotlib import pyplot as plt\n",
    "from matplotlib import rc\n",
    "rc('font',size = 18)\n",
    "\n",
    "import json\n",
    "\n",
    "from urllib.request import urlretrieve"
   ]
  },
  {
   "cell_type": "code",
   "execution_count": null,
   "metadata": {
    "ExecuteTime": {
     "end_time": "2020-03-12T14:16:52.908236Z",
     "start_time": "2020-03-12T14:16:51.702394Z"
    }
   },
   "outputs": [],
   "source": [
    "# Files with the data downloaded from the Protezione cicile repository\n",
    "url_national_data = 'https://raw.githubusercontent.com/pcm-dpc/COVID-19/master/dati-json/dpc-covid19-ita-andamento-nazionale.json';\n",
    "national_data_JSON_file = 'dpc-covid19-ita-andamento-nazionale.json';\n",
    "urlretrieve(url_national_data,national_data_JSON_file);\n",
    "\n",
    "url_regional_data = 'https://raw.githubusercontent.com/pcm-dpc/COVID-19/master/dati-json/dpc-covid19-ita-regioni.json';\n",
    "regional_data_JSON_file = 'dpc-covid19-ita-regioni.json';\n",
    "urlretrieve(url_regional_data,regional_data_JSON_file);\n",
    "\n",
    "url_province_data = 'https://raw.githubusercontent.com/pcm-dpc/COVID-19/master/dati-json/dpc-covid19-ita-province.json';\n",
    "province_data_JSON_file = 'dpc-covid19-ita-province.json';\n",
    "urlretrieve(url_province_data,province_data_JSON_file);"
   ]
  },
  {
   "cell_type": "code",
   "execution_count": null,
   "metadata": {
    "ExecuteTime": {
     "end_time": "2020-03-12T14:38:22.682111Z",
     "start_time": "2020-03-12T14:38:22.654350Z"
    }
   },
   "outputs": [],
   "source": [
    "#  Get the regions names\n",
    "regions = pd.read_json(regional_data_JSON_file)\n",
    "regions = list(dict.fromkeys(regions.denominazione_regione))\n",
    "regions = sorted(regions)\n",
    "\n",
    "#  Get the provinces names\n",
    "provinces = pd.read_json(province_data_JSON_file)\n",
    "provinces = list(dict.fromkeys(provinces.denominazione_provincia))\n",
    "provinces = sorted(provinces)"
   ]
  },
  {
   "cell_type": "markdown",
   "metadata": {},
   "source": [
    "# Evolution of Coronavirus disease 2019 (COVID-19) outbreak in Italy\n",
    "\n",
    "source:\n",
    "- [Official repository](https://github.com/pcm-dpc/COVID-19) with the italian **Protezione Civile**'s data."
   ]
  },
  {
   "cell_type": "markdown",
   "metadata": {},
   "source": [
    "## ITALY"
   ]
  },
  {
   "cell_type": "code",
   "execution_count": null,
   "metadata": {
    "ExecuteTime": {
     "end_time": "2020-03-12T14:16:59.693055Z",
     "start_time": "2020-03-12T14:16:59.689354Z"
    }
   },
   "outputs": [],
   "source": [
    "def show_ItalyDATA():\n",
    "    national_DATA = pd.read_json(national_data_JSON_file)\n",
    "    #    Trim the hours from the dates columns\n",
    "    national_DATA['data'] = [date.split()[0] for date in national_DATA['data']]\n",
    "\n",
    "    #    Make the plot   \n",
    "    fig = national_DATA.plot.line(\n",
    "        x='data'\n",
    "        ,y=['totale_attualmente_positivi'\n",
    "        ,'nuovi_attualmente_positivi','deceduti']\n",
    "        ,rot=90\n",
    "        ,style = ['sr','^b','+k']\n",
    "        ,figsize = (10,6)\n",
    "    );\n",
    "    plt.title('ITALIA')\n",
    "    plt.xlabel('')\n",
    "    plt.ylabel('Cases')\n",
    "    return"
   ]
  },
  {
   "cell_type": "code",
   "execution_count": null,
   "metadata": {
    "ExecuteTime": {
     "end_time": "2020-03-12T14:17:11.444988Z",
     "start_time": "2020-03-12T14:17:11.311181Z"
    }
   },
   "outputs": [],
   "source": [
    "show_ItalyDATA()"
   ]
  },
  {
   "cell_type": "markdown",
   "metadata": {},
   "source": [
    "## Regionally"
   ]
  },
  {
   "cell_type": "code",
   "execution_count": null,
   "metadata": {
    "ExecuteTime": {
     "end_time": "2020-03-12T14:39:07.084250Z",
     "start_time": "2020-03-12T14:39:07.079166Z"
    }
   },
   "outputs": [],
   "source": [
    "def show_regionDATA(regionName):\n",
    "    if regionName not in regions:\n",
    "        print('Introduce a valid region!!')\n",
    "        return\n",
    "    with open(regional_data_JSON_file) as f:\n",
    "        json_str = f.read()\n",
    "    regions_DATA = json.loads(json_str)\n",
    "    region_DATA = []\n",
    "    for entry in regions_DATA:\n",
    "        if entry['denominazione_regione'] == regionName: region_DATA.append(entry)\n",
    "    region_DATA = pd.DataFrame(region_DATA)\n",
    "    #    Trim the hours from the dates columns\n",
    "    region_DATA['data'] = [date.split()[0] for date in region_DATA['data']]\n",
    "    \n",
    "    #    Make the plot  \n",
    "    fig = region_DATA.plot.line(\n",
    "        x='data'\n",
    "        ,y=['totale_attualmente_positivi'\n",
    "        ,'nuovi_attualmente_positivi','deceduti']\n",
    "        ,rot=90\n",
    "        ,style = ['sr','^b','+k']\n",
    "        ,figsize = (10,6)\n",
    "    );\n",
    "    plt.title(regionName)\n",
    "    plt.xlabel('')\n",
    "    plt.ylabel('Cases')\n",
    "    "
   ]
  },
  {
   "cell_type": "code",
   "execution_count": null,
   "metadata": {
    "ExecuteTime": {
     "end_time": "2020-03-12T14:39:07.873346Z",
     "start_time": "2020-03-12T14:39:07.865909Z"
    }
   },
   "outputs": [],
   "source": [
    "region_selector = ipw.Combobox(\n",
    "    options = regions,\n",
    "    value='',\n",
    "    placeholder='Introduce a region',\n",
    "    description='Region: ',\n",
    "    disabled=False\n",
    ")\n",
    "region_selector.continuous_update = False"
   ]
  },
  {
   "cell_type": "code",
   "execution_count": null,
   "metadata": {
    "ExecuteTime": {
     "end_time": "2020-03-12T14:39:08.732916Z",
     "start_time": "2020-03-12T14:39:08.721470Z"
    }
   },
   "outputs": [],
   "source": [
    "interact(show_regionDATA,regionName=region_selector);"
   ]
  },
  {
   "cell_type": "markdown",
   "metadata": {},
   "source": [
    "## Provinces"
   ]
  },
  {
   "cell_type": "code",
   "execution_count": null,
   "metadata": {
    "ExecuteTime": {
     "end_time": "2020-03-12T14:38:27.406831Z",
     "start_time": "2020-03-12T14:38:27.402182Z"
    }
   },
   "outputs": [],
   "source": [
    "def show_provinceDATA(provinceName):\n",
    "    if provinceName not in provinces:\n",
    "        print('Introduce a valid province!!')\n",
    "        return\n",
    "    with open(province_data_JSON_file) as f:\n",
    "        json_str = f.read()\n",
    "    provinces_DATA = json.loads(json_str)\n",
    "    province_DATA = []\n",
    "    for entry in provinces_DATA:\n",
    "        if entry['denominazione_provincia'] == provinceName: province_DATA.append(entry)\n",
    "    province_DATA = pd.DataFrame(province_DATA)\n",
    "    #    Trim the hours from the dates columns\n",
    "    province_DATA['data'] = [date.split()[0] for date in province_DATA['data']]\n",
    "    \n",
    "    #    Make the plot  \n",
    "    fig = province_DATA.plot.line(\n",
    "        x='data'\n",
    "        ,y='totale_casi'\n",
    "        ,rot=90\n",
    "        ,style = 'sr'\n",
    "        ,figsize = (10,6)\n",
    "    );\n",
    "    plt.title(provinceName)\n",
    "    plt.xlabel('')\n",
    "    plt.ylabel('Cases')\n",
    "    "
   ]
  },
  {
   "cell_type": "code",
   "execution_count": null,
   "metadata": {
    "ExecuteTime": {
     "end_time": "2020-03-12T14:40:08.204900Z",
     "start_time": "2020-03-12T14:40:08.198332Z"
    }
   },
   "outputs": [],
   "source": [
    "province_selector = ipw.Combobox(\n",
    "    options = provinces,\n",
    "    value='',\n",
    "    placeholder='Introduce a province',\n",
    "    description='Province: ',\n",
    "    disabled=False\n",
    ")\n",
    "region_selector.continuous_update = False"
   ]
  },
  {
   "cell_type": "code",
   "execution_count": null,
   "metadata": {
    "ExecuteTime": {
     "end_time": "2020-03-12T14:38:35.332981Z",
     "start_time": "2020-03-12T14:38:35.321265Z"
    }
   },
   "outputs": [],
   "source": [
    "interact(show_provinceDATA,provinceName=province_selector);"
   ]
  }
 ],
 "metadata": {
  "kernelspec": {
   "display_name": "Python 3",
   "language": "python",
   "name": "python3"
  },
  "language_info": {
   "codemirror_mode": {
    "name": "ipython",
    "version": 3
   },
   "file_extension": ".py",
   "mimetype": "text/x-python",
   "name": "python",
   "nbconvert_exporter": "python",
   "pygments_lexer": "ipython3",
   "version": "3.7.6"
  },
  "latex_envs": {
   "LaTeX_envs_menu_present": true,
   "autoclose": false,
   "autocomplete": false,
   "bibliofile": "biblio.bib",
   "cite_by": "apalike",
   "current_citInitial": 1,
   "eqLabelWithNumbers": true,
   "eqNumInitial": 1,
   "hotkeys": {
    "equation": "Ctrl-E",
    "itemize": "Ctrl-I"
   },
   "labels_anchors": false,
   "latex_user_defs": false,
   "report_style_numbering": false,
   "user_envs_cfg": false
  },
  "toc": {
   "base_numbering": 1,
   "nav_menu": {},
   "number_sections": true,
   "sideBar": true,
   "skip_h1_title": false,
   "title_cell": "Table of Contents",
   "title_sidebar": "Contents",
   "toc_cell": false,
   "toc_position": {},
   "toc_section_display": true,
   "toc_window_display": false
  },
  "varInspector": {
   "cols": {
    "lenName": 16,
    "lenType": 16,
    "lenVar": 40
   },
   "kernels_config": {
    "python": {
     "delete_cmd_postfix": "",
     "delete_cmd_prefix": "del ",
     "library": "var_list.py",
     "varRefreshCmd": "print(var_dic_list())"
    },
    "r": {
     "delete_cmd_postfix": ") ",
     "delete_cmd_prefix": "rm(",
     "library": "var_list.r",
     "varRefreshCmd": "cat(var_dic_list()) "
    }
   },
   "types_to_exclude": [
    "module",
    "function",
    "builtin_function_or_method",
    "instance",
    "_Feature"
   ],
   "window_display": false
  }
 },
 "nbformat": 4,
 "nbformat_minor": 4
}
